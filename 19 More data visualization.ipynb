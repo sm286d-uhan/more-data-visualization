{
 "cells": [
  {
   "cell_type": "markdown",
   "metadata": {
    "hide_cell": true
   },
   "source": [
    "<span class='note'><i>Make me look good.</i> Click on the cell below and press <kbd>Ctrl</kbd>+<kbd>Enter</kbd>.</span>"
   ]
  },
  {
   "cell_type": "code",
   "execution_count": 1,
   "metadata": {
    "hide_cell": true,
    "run_control": {
     "marked": true
    }
   },
   "outputs": [
    {
     "data": {
      "text/html": [
       "<link href='http://fonts.googleapis.com/css?family=Lora:400,700,400i,700i' rel='stylesheet'>\n",
       "<link href='https://fonts.googleapis.com/css?family=Lato:300,400,700,300i,400i,700i' rel='stylesheet'>\n",
       "<link href='https://fonts.googleapis.com/css?family=Inconsolata:400' rel='stylesheet'>\n",
       "<link rel=\"stylesheet\" href=\"http://maxcdn.bootstrapcdn.com/font-awesome/4.3.0/css/font-awesome.min.css\">\n",
       "<style>\n",
       "    h1, h2, h3, h4, h5 {\n",
       "        font-family: 'Lato', sans-serif;\n",
       "    }\n",
       "    h5 {\n",
       "        font-style: normal;\n",
       "    }\n",
       "    kbd {\n",
       "        font-family: Lato, serif;\n",
       "    }\n",
       "    hr {\n",
       "      border-width: 2px;\n",
       "      border-color: #a9a9a9;\n",
       "    }\n",
       "    .cite {\n",
       "        font-size: 85%;\n",
       "        text-align: right;\n",
       "        margin-top: 10px;\n",
       "    }\n",
       "    .note {\n",
       "        font-family: Lora, serif;\n",
       "        font-size: 10pt;\n",
       "        font-weight: 400;\n",
       "        margin-top: 0;\n",
       "        margin-bottom: 0;\n",
       "    }\n",
       "    h5.prehead {\n",
       "        font-family: Lato, serif;\n",
       "        font-style: normal;\n",
       "        font-size: 13pt;\n",
       "        font-weight: 300;\n",
       "        margin-bottom: 15px;\n",
       "        margin-top: 30px;\n",
       "    }\n",
       "    h5.lesson {\n",
       "        font-family: Lato, serif;\n",
       "        font-weight: 400;\n",
       "        font-size: 15pt;\n",
       "        font-style: normal;\n",
       "        margin-top: 0px;\n",
       "        margin-bottom: 5px;\n",
       "    }\n",
       "    h1.lesson_title {\n",
       "        font-family: Lato, serif;\n",
       "        font-weight: 300;\n",
       "        font-size: 32pt;\n",
       "        line-height: 110%;\n",
       "        color:#CD2305;\n",
       "        margin-top: 0px;\n",
       "        margin-bottom: 15px;\n",
       "    }\n",
       "    div.cell{\n",
       "        max-width: 960px;\n",
       "        margin-left: auto;\n",
       "        margin-right: auto;\n",
       "    }\n",
       "    div.text_cell_render {\n",
       "        font-family: Lora, serif;\n",
       "        line-height: 160%;\n",
       "        font-size: 11pt;\n",
       "    }\n",
       "    .rendered_html pre, .rendered_html code  {\n",
       "        font-family: Inconsolata, monospace !important;\n",
       "        font-size: 11pt;\n",
       "    }\n",
       "    div.CodeMirror, div.output_area pre, div.prompt {\n",
       "        font-family: Inconsolata, monospace !important;\n",
       "        font-size: 110%;\n",
       "    }\n",
       "    .rendered_html ul li {\n",
       "        margin-top: 0.75em;\n",
       "        margin-bottom: 0.75em;\n",
       "    }\n",
       "    .rendered_html ul li ul li {\n",
       "        margin-top: 0.5em;\n",
       "        margin-bottom: 0.5em;\n",
       "    }\n",
       "    .rred {\n",
       "        color: #a00000;\n",
       "    }\n",
       "</style>\n",
       "<script>\n",
       "    MathJax.Hub.Config({\n",
       "                        TeX: {\n",
       "                           extensions: [\"AMSmath.js\"]\n",
       "                           },\n",
       "                tex2jax: {\n",
       "                    inlineMath: [ ['$','$'], [\"\\\\(\",\"\\\\)\"] ],\n",
       "                    displayMath: [ ['$$','$$'], [\"\\\\[\",\"\\\\]\"] ]\n",
       "                },\n",
       "                displayAlign: 'center', // Change this to 'center' to center equations.\n",
       "                \"HTML-CSS\": {\n",
       "                    styles: {'.MathJax_Display': {\"margin\": \"0.75em 0\"}}\n",
       "                }\n",
       "        });\n",
       "</script>\n"
      ],
      "text/plain": [
       "<IPython.core.display.HTML object>"
      ]
     },
     "execution_count": 1,
     "metadata": {},
     "output_type": "execute_result"
    }
   ],
   "source": [
    "from IPython.core.display import HTML\n",
    "HTML(open('css/custom.css', 'r').read())"
   ]
  },
  {
   "cell_type": "markdown",
   "metadata": {
    "hide_cell": true
   },
   "source": [
    "<h5 class='prehead'>SM286D &middot; Introduction to Applied Mathematics with Python &middot; Spring 2020 &middot; Uhan</h5>\n",
    "\n",
    "<h5 class='lesson'>Lesson 19.</h5>\n",
    "\n",
    "<h1 class='lesson_title'>More data visualization</h1>"
   ]
  },
  {
   "cell_type": "markdown",
   "metadata": {},
   "source": [
    "## This lesson..."
   ]
  },
  {
   "cell_type": "markdown",
   "metadata": {},
   "source": [
    "In this lesson, we'll walk through the inner workings of an SMO capstone project by MIDN 1/C Arvin, MIDN 1/C Kugel, MIDN 1/C Urrutia, and MIDN 1/C Villacorta (Class of 2020).  \n",
    "\n",
    "The goal of this lesson is three-fold:\n",
    "\n",
    "- See an example of how to visualize the output of an optimization model in a user-friendly way.\n",
    "\n",
    "- See more examples of Pyomo and Cartopy in action.\n",
    "\n",
    "- See an example of a *real* capstone project that tries to solve an actual Navy problem.\n",
    "\n",
    "As you'll see, all the Python programming for this project is well within your grasp, based on the programming knowledge you gained this semester! You'll learn about some of the more advanced mathematical methods in future courses."
   ]
  },
  {
   "cell_type": "markdown",
   "metadata": {},
   "source": [
    "## Problem description"
   ]
  },
  {
   "cell_type": "markdown",
   "metadata": {},
   "source": [
    "The goal of their project was to help NAVAIR determine the optimal locations for different types of 3D printers for a given budget.   They formulated a facility location model that is described below.  You'll cover the details of how to model this type of problem in SA405 &mdash; Advanced Mathematical Programming. For this lesson, we'll focus on visualizing the output of the optimization model. \n",
    "\n",
    "First, look over the problem statement and assumptions below.  "
   ]
  },
  {
   "cell_type": "markdown",
   "metadata": {},
   "source": [
    "Given a list of customer locations, which can also serve as locations for 3D printers, and a fixed budget, determine locations for the printers that minimize overall cost.  We make the following assumptions:\n",
    "\n",
    " - There are 23 possible customer locations in the continental US.\n",
    " - There are two tiers of 3D printers, tier 1 and tier 2.\n",
    " - It is possible to place between 0 and 30 printers at any given location.\n",
    " - The demands for customer locations were determined based on data from NAVAIR.\n",
    " - There is a penalty to be paid if demand can't be satisfied for a given customer location.\n",
    " - Shipping costs were determined based on FedEx shipping rates.\n",
    " - There is a uniform one-time charge to purchase tier 1 or tier 2 printers. These were determined based on market research.  \n",
    " - There is a one-time start-up cost if any 3D printers are introduced at a particular location. \n",
    " - 3D printers have a maximum capacity to print parts, and can only print parts corresponding to their respective tier.\n",
    " - The distance between possible printer locations are based on the straight line distance between their latitudes and longitudes.\n",
    " - The total budget is a fixed dollar amount.\n",
    "\n",
    "Based on these assumptions, the model formulation is given below.  Look it over, and then read the description below."
   ]
  },
  {
   "cell_type": "markdown",
   "metadata": {},
   "source": [
    "__Indices and sets.__\n",
    "\n",
    "\\begin{array}{ll}\n",
    "  i \\in I & \\mbox{customers}, I = \\{1, 2, \\dots, 23\\}                                        \\\\\n",
    "  j \\in J & \\mbox{possible printer locations}, J = \\{1, 2, ..., 23\\}                         \\\\\n",
    "  p \\in P & \\mbox{possible number of printers at a given location}, P = \\{0, 1, 2, ..., 30\\} \\\\\n",
    "\\end{array}"
   ]
  },
  {
   "cell_type": "markdown",
   "metadata": {},
   "source": [
    "__Data.__\n",
    "\n",
    "\\begin{array}{ll}\n",
    "  \\mathit{demand1}_i        & \\mbox{tier 1 customer demand at node $i$}                                        \\\\\n",
    "  \\mathit{demand2}_i        & \\mbox{tier 2 customer demand at node $i$}                                        \\\\\n",
    "  \\mathit{penalty1}         & \\mbox{penalty for not satisfying tier 1 demands}                                 \\\\\n",
    "  \\mathit{penalty2}         & \\mbox{penalty for not satisfying tier 2 demands}                                 \\\\\n",
    "  \\beta                     & \\mbox{proportionality constant for shipping costs}                               \\\\\n",
    "  \\mathit{f1}_{j}           & \\mbox{one-time fixed cost for a tier 1 printer at location $j$}                  \\\\\n",
    "  \\mathit{f2}_{j}           & \\mbox{one-time fixed cost for a tier 2 printer at location $j$}                  \\\\\n",
    "  \\mathit{start\\_cost1}_{j} & \\mbox{start-up cost associated with putting any tier 1 printers at location $j$} \\\\\n",
    "  \\mathit{start\\_cost2}_{j} & \\mbox{start-up cost associated with putting any tier 2 printers at location $j$} \\\\\n",
    "  \\mathit{cap1}_j           & \\mbox{capacity of a tier 1 printer at location $j$}                              \\\\\n",
    "  \\mathit{cap2}_j           & \\mbox{capacity of a tier 2 printer at location $j$}                              \\\\\n",
    "  \\mathit{dist}_{ij}        & \\mbox{length of shortest path between customer $i$ and printer location $j$}     \\\\\n",
    "  \\mathit{budget}           & \\mbox{total amount of money available}                                           \\\\\n",
    "  \\mathit{M}                & \\mbox{big enough integer value (set by the length of $P$)}                       \\\\\n",
    "\\end{array}"
   ]
  },
  {
   "cell_type": "markdown",
   "metadata": {},
   "source": [
    "__Decision variables.__\n",
    "\n",
    "\\begin{array}{ll}\n",
    "  \\mathit{FRACUN1}_i  & \\mbox{fraction of tier 1 customer $i$ demand unfulfilled}                       \\\\\n",
    "  \\mathit{FRACUN2}_i  & \\mbox{fraction of tier 2 customer $i$ demand unfulfilled}                       \\\\\n",
    "  \\mathit{OPEN1}_{jp} & \\mbox{1 if $p$ tier 1 printers are located at $j$, 0 otherwise}                 \\\\\n",
    "  \\mathit{OPEN2}_{jp} & \\mbox{1 if $p$ tier 2 printers are located at $j$, 0 otherwise}                 \\\\\n",
    "  \\mathit{SAT1}_{ij}  & \\mbox{fraction of tier 1 customer $i$ demand satisfied by printer location $j$} \\\\\n",
    "  \\mathit{SAT2}_{ij}  & \\mbox{fraction of tier 2 customer $i$ demand satisfied by printer location $j$} \\\\\n",
    "  \\mathit{NOT0P1}_j   & \\mbox{1 if any tier 1 printers open at location $j$, 0 otherwise}               \\\\\n",
    "  \\mathit{NOT0P2}_j   & \\mbox{1 if any tier 2 printers open at location $j$, 0 otherwise}               \\\\\n",
    "\\end{array}"
   ]
  },
  {
   "cell_type": "markdown",
   "metadata": {},
   "source": [
    "__Formulation.__\n",
    "\n",
    "\\begin{alignat}{4}\n",
    "  \\min \\quad & \\sum_{j \\in J, p \\in P} p \\cdot f1_{j} \\mathit{OPEN1}_{jp} + \\sum_{j \\in J, p \\in P} p \\cdot f2_{j} \\mathit{OPEN2}_{jp} \\\\\n",
    "  & \\qquad + \\beta \\sum_{i \\in I, j \\in J} \\mathit{demand1}_i dist_{ij} \\mathit{SAT1}_{ij} + \\beta \\sum_{i \\in I, j \\in J} \\mathit{demand2}_i \\mathit{dist}_{ij} \\mathit{SAT2}_{ij} \\\\\n",
    "  & \\qquad + \\sum_{i \\in I} \\mathit{penalty1} \\mathit{demand1}_i \\mathit{FRACUN1}_i + \\sum_{i \\in I} \\mathit{penalty2} \\mathit{demand2}_i \\mathit{FRACUN2}_i\\\\\n",
    "  & \\qquad + \\sum_{j \\in J} \\mathit{start\\_cost1}_{j} \\mathit{NOT0P1}_{j} + \\sum_{j \\in J} \\mathit{start\\_cost2}_{j} \\mathit{NOT0P2}_{j} \\\\\n",
    "  \\mbox{s.t.} \\quad & \\sum_{j \\in J, p \\in P} p \\cdot f1_{j} \\mathit{OPEN1}_{jp} + \\sum_{j \\in J, p \\in P} p \\cdot f2_{j} \\mathit{OPEN2}_{jp}                           \\\\\n",
    "                    & \\qquad + \\sum_{j \\in J} \\mathit{start\\_cost1}_{j} \\mathit{NOT0P1}_{j} + \\sum_{j \\in J} \\mathit{start\\_cost2}_{j} \\mathit{NOT0P2}_{j} \\le \\mathit{budget}  & \\qquad &                          & \\quad (1)  \\\\\n",
    "                    & \\mathit{FRACUN1}_{i} + \\sum_{j\\in J} \\mathit{SAT1}_{ij} = 1                                                                                        & \\qquad & \\forall i \\in I          & \\quad (2)  \\\\\n",
    "                    & \\mathit{FRACUN2}_{i} + \\sum_{j\\in J} \\mathit{SAT2}_{ij} = 1                                                                                        & \\qquad & \\forall i \\in I          & \\quad (3)  \\\\\n",
    "                    & \\sum_{p \\in P} \\mathit{OPEN1}_{jp} = 1                                                                                                             &        & \\forall j \\in J          & \\quad (4)  \\\\\n",
    "                    & \\sum_{p \\in P} \\mathit{OPEN2}_{jp} = 1                                                                                                             &        & \\forall j \\in J          & \\quad (5)  \\\\\n",
    "                    & \\sum_{p \\in P} p \\cdot \\mathit{OPEN1}_{jp} \\le M \\mathit{NOT0P1}_j                                                                                 &        & \\forall j \\in J          & \\quad (6)  \\\\\n",
    "                    & \\sum_{p \\in P} p \\cdot \\mathit{OPEN2}_{jp} \\le M \\mathit{NOT0P2}_j                                                                                 &        & \\forall j \\in J          & \\quad (7)  \\\\\n",
    "                    & \\sum_{p \\in P} p \\cdot \\mathit{OPEN1}_{jp} \\ge \\mathit{NOT0P1}_j                                                                                   &        & \\forall j \\in J          & \\quad (8)  \\\\\n",
    "                    & \\sum_{p \\in P} p \\cdot \\mathit{OPEN2}_{jp} \\ge \\mathit{NOT0P2}_j                                                                                   &        & \\forall j \\in J          & \\quad (9)  \\\\\n",
    "                    & \\sum_{i \\in I} \\mathit{demand1}_i \\mathit{SAT1}_{ij} \\le \\sum_{p \\in P} p \\cdot \\mathit{cap1}_j \\mathit{OPEN1}_{jp}                                &        & \\forall j \\in J          & \\quad (10) \\\\\n",
    "                    & \\sum_{i \\in I} \\mathit{demand2}_i \\mathit{SAT2}_{ij} \\le \\sum_{p \\in P} p \\cdot \\mathit{cap2}_j \\mathit{OPEN2}_{jp}                                &        & \\forall j \\in J          & \\quad (11) \\\\\n",
    "                    & 0 \\le \\mathit{FRACUN1}_i \\le 1                                                                                                                     &        & \\forall i \\in I          & \\quad (12) \\\\\n",
    "                    & 0 \\le \\mathit{FRACUN2}_i \\le 1                                                                                                                     &        & \\forall i \\in I          & \\quad (13) \\\\\n",
    "                    & \\mathit{OPEN1}_{jp} \\in \\{0,1\\}                                                                                                                    &        & \\forall j \\in J, p \\in P & \\quad (14) \\\\\n",
    "                    & \\mathit{OPEN2}_{jp} \\in \\{0,1\\}                                                                                                                    &        & \\forall j \\in J, p \\in P & \\quad (15) \\\\\n",
    "                    & 0 \\le \\mathit{SAT1}_{ij} \\le 1                                                                                                                     &        & \\forall i \\in I, j \\in J & \\quad (16) \\\\\n",
    "                    & 0 \\le \\mathit{SAT2}_{ij} \\le 1                                                                                                                     &        & \\forall i \\in I, j \\in J & \\quad (17) \\\\\n",
    "                    & \\mathit{NOT0P1}_j \\in \\{0,1\\}                                                                                                                      &        & \\forall j \\in J          & \\quad (18) \\\\\n",
    "                    & \\mathit{NOT0P2}_j \\in \\{0,1\\}                                                                                                                      &        & \\forall j \\in J          & \\quad (19)\n",
    "\\end{alignat}"
   ]
  },
  {
   "cell_type": "markdown",
   "metadata": {},
   "source": [
    "- The objective function seeks to minimize the overall cost, which consists of the following components:  cost of the tier 1 and tier 2 printers purchased, the shipping costs to transport parts from where they are printed to where they are needed, the penalties for any unsatisfied part demands, and the start-up costs associated with placing printers at different locations.  \n",
    "\n",
    "- Constraint (1) ensures that the cost to buy the printers and pay the start-up costs does not exceed the total budget.  \n",
    "\n",
    "- Constraints (2) and (3) ensure that the sum of satisfied and unsatisfied demand is one at each customer location, for tiers 1 and 2, respectively.\n",
    "\n",
    "- Constraints (4) and (5) ensure exactly one number (between 0 and 30) of printer is open at each possible location, for tiers 1 and 2, respectively.  \n",
    "\n",
    "- Constraints (6), (7), (8), and (9) are logical constraints that relate the two decision variables $\\mathit{OPEN}$ and $\\mathit{NOT0P}$ for their respective tiers.  These logical constraints ensure the value of $\\mathit{NOT0P}$ is set to 1 if there are any 3D printers at a particular location, and 0 if there are no 3D printers at a particular location.  \n",
    "\n",
    "- Constraints (10) and (11) ensure that demand can only be satisfied if there are enough 3D printers open at a location to produce the parts for tiers 1 and 2, respectively.  \n",
    "\n",
    "- Constraints (12) - (19) are variable bounds. "
   ]
  },
  {
   "cell_type": "markdown",
   "metadata": {},
   "source": [
    "<div class=\"alert alert-block alert-warning\">\n",
    "<h3>Problem 1.</h3>\n",
    "    \n",
    "Based on the cardinality of the sets $J$ and $P$ provided above, how many constraints of type (1) will be in the model?\n",
    "</div>"
   ]
  },
  {
   "cell_type": "markdown",
   "metadata": {},
   "source": [
    "__Write your answer here. Double-click to edit.__\n",
    "\n",
    "- There will be only one type (1) constraint in the model."
   ]
  },
  {
   "cell_type": "markdown",
   "metadata": {},
   "source": [
    "<div class=\"alert alert-block alert-warning\">\n",
    "<h3>Problem 2.</h3>\n",
    "    \n",
    "Based on the cardinality of the sets $I$, $J$, and $P$ provided above, how many constraints of type (10) will be in the model?\n",
    "</div>"
   ]
  },
  {
   "cell_type": "markdown",
   "metadata": {},
   "source": [
    "__Write your answer here. Double-click to edit.__\n",
    "\n",
    "- There will be 23 type (10) constraints in the model."
   ]
  },
  {
   "cell_type": "markdown",
   "metadata": {},
   "source": [
    "<div class=\"alert alert-block alert-warning\">\n",
    "<h3>Problem 3</h3>\n",
    "\n",
    "Is $\\mathit{FRACUN1}_i$ a continuous, integer, or binary variable?  How many different $\\mathit{FRACUN1}_i$ variables will there be in the model?\n",
    "</div>"
   ]
  },
  {
   "cell_type": "markdown",
   "metadata": {},
   "source": [
    "__Write your answer here. Double-click to edit.__\n",
    "\n",
    "- $\\mathit{FRACUN1}_i$ is a continuous variable that can take on values from 0 to 1.\n",
    "- There will be 23 different $\\mathit{FRACUN1}_i$ variables in the model."
   ]
  },
  {
   "cell_type": "markdown",
   "metadata": {},
   "source": [
    "<div class=\"alert alert-block alert-warning\">\n",
    "<h3>Problem 4</h3>\n",
    "\n",
    "Is $\\mathit{OPEN1}_{jp}$ a continuous, integer, or binary variable?  How many different $\\mathit{OPEN1}_{jp}$ variables will there be in the model?\n",
    "</div>"
   ]
  },
  {
   "cell_type": "markdown",
   "metadata": {},
   "source": [
    "__Write your answer here. Double-click to edit.__\n",
    "\n",
    "- $\\mathit{OPEN1}_{jp}$ is a binary variable that can take on the values of 0 or 1.\n",
    "- There will be $23 \\times 31 = 713$ different $\\mathit{OPEN1}_{jp}$ variables in the model."
   ]
  },
  {
   "cell_type": "markdown",
   "metadata": {},
   "source": [
    "## Reading and generating the input data"
   ]
  },
  {
   "cell_type": "markdown",
   "metadata": {},
   "source": [
    "The cell below reads most of the required information for the model from the Excel workbook `3DPrintingFacilityLocation.xlsx` (located in the same folder as this notebook). Run this code cell.\n",
    "\n",
    "<!-- Make sure you have downloaded the Excel file and put it in the folder **C:\\Output** on your computer.--> "
   ]
  },
  {
   "cell_type": "code",
   "execution_count": 2,
   "metadata": {
    "run_control": {
     "marked": true
    }
   },
   "outputs": [],
   "source": [
    "# Import pyomo and xlwings\n",
    "import pyomo.environ as pyo\n",
    "import xlwings as xw\n",
    "\n",
    "# Create Book object pointing to Excel workbook\n",
    "# NOTE: It is easier to not have spaces in the path or the file name\n",
    "wb = xw.Book('3DPrintingFacilityLocation.xlsx')\n",
    "\n",
    "# Reference customer input information\n",
    "information = wb.sheets['Information']\n",
    "\n",
    "# Reference initials sheet in Excel\n",
    "initials = wb.sheets['Initials']\n",
    "\n",
    "# Customer values from Excel\n",
    "customers = information.range('A2').expand('down').value\n",
    "\n",
    "# We assume all customer locations can also be printer locations\n",
    "facilities = customers\n",
    "\n",
    "# Demand values from Excel\n",
    "demand01 = information.range('E2').expand('down').value\n",
    "demand02 = information.range('F2').expand('down').value\n",
    "\n",
    "# Penalty for printers\n",
    "penalty1 = initials.range('E3').value\n",
    "penalty2 = initials.range('E4').value\n",
    "\n",
    "# Startup cost\n",
    "startup1 = initials.range('F3').value\n",
    "startup2 = initials.range('F4').value\n",
    "\n",
    "# Total budget\n",
    "TOTAL_BUDGET = initials.range('B2').value\n",
    "\n",
    "# Take distance into account\n",
    "beta = initials.range('E7').value\n",
    "\n",
    "# Theoretical number of printers for each type\n",
    "max_printers = initials.range('B6').value\n",
    "\n",
    "# Create list with all possible number of printers\n",
    "num_printers = list(range(int(max_printers)))\n",
    "\n",
    "# Set value of \"Big M\"\n",
    "M = len(num_printers) + 2\n",
    "\n",
    "# Demand dictionary for printer 1\n",
    "demand1 = {}\n",
    "for i in range(len(customers)):\n",
    "    demand1[customers[i]] = demand01[i]\n",
    "\n",
    "# Demand Dictionary for printer 2\n",
    "demand2 = {}\n",
    "for i in range(len(customers)):\n",
    "    demand2[customers[i]] = demand02[i]\n",
    "\n",
    "# Gets the lats and longs for each location\n",
    "lats = information.range('B2').expand('down').value\n",
    "longs = information.range('C2').expand('down').value"
   ]
  },
  {
   "cell_type": "markdown",
   "metadata": {},
   "source": [
    "The cell below contains the `airdist` function we wrote in Lesson 18<!--for the Day 25 lesson on genetic algorithms-->.  Run this code cell."
   ]
  },
  {
   "cell_type": "code",
   "execution_count": 3,
   "metadata": {
    "run_control": {
     "marked": true
    }
   },
   "outputs": [],
   "source": [
    "import numpy as np\n",
    "\n",
    "def airdist(lat1, long1, lat2, long2):\n",
    "    \"\"\"\n",
    "    Compute the distance (as the crow flies) between two points\n",
    "    whose latitudes and longitudes are given. \n",
    "    \"\"\"\n",
    "    # Write your code here\n",
    "    # Convert to radians\n",
    "    lat1_rad = lat1 * np.pi / 180\n",
    "    lat2_rad = lat2 * np.pi / 180\n",
    "    long1_rad = long1 * np.pi / 180\n",
    "    long2_rad = long2 * np.pi / 180\n",
    "    \n",
    "    # Radius of Earth in meters\n",
    "    R = 6371000\n",
    "    \n",
    "    # Distance in meters\n",
    "    meters = R * np.arccos(\n",
    "        np.sin(lat1_rad) * np.sin(lat2_rad) + \n",
    "        np.cos(lat1_rad) * np.cos(lat2_rad) * np.cos(long2_rad - long1_rad)\n",
    "    )\n",
    "    miles = meters * 0.621371 / 1000\n",
    "    \n",
    "    return miles"
   ]
  },
  {
   "cell_type": "markdown",
   "metadata": {},
   "source": [
    "<div class=\"alert alert-block alert-warning\">\n",
    "<h3>Problem 5</h3>\n",
    "\n",
    "In the code cell above where `airdist` was defined, the lists `customers`, `facilities`, `lats`, and `longs`  were created by reading the appropriate values from the Excel workbook.  Note that `customers` and `facilities` contain the same locations based on the assumptions we made above.  \n",
    "    \n",
    "In the cell below, write a `for` loop that prints the values of `customers` with the corresponding `lats` and `longs` values to get a feel for the data structures.  Use f-strings so that your output looks like the example below, which only contains the first 4 entries in the lists.  Your answer should contain all 23 customer locations and their corresponding latitudes and longitudes.\n",
    "\n",
    "```\n",
    "Customer Location Name   latitude   longitude\n",
    "----------------------   --------   ---------\n",
    "New River, NC              34.757     -77.410\n",
    "Camp Pendleton, CA         33.318    -117.320\n",
    "Lakehurst, NJ              40.015     -74.311\n",
    "Yuma, AZ                   32.692    -114.628\n",
    "```\n",
    "</div>"
   ]
  },
  {
   "cell_type": "code",
   "execution_count": null,
   "metadata": {},
   "outputs": [],
   "source": []
  },
  {
   "cell_type": "code",
   "execution_count": 4,
   "metadata": {
    "run_control": {
     "marked": true
    }
   },
   "outputs": [
    {
     "name": "stdout",
     "output_type": "stream",
     "text": [
      "Customer Location Name   Latitude   Longitude\n",
      "----------------------   --------   ---------\n",
      "New River, NC              34.757     -77.410\n",
      "Camp Pendleton, CA         33.318    -117.320\n",
      "Lakehurst, NJ              40.015     -74.311\n",
      "Yuma, AZ                   32.692    -114.628\n",
      "Cherry Point, NC           34.903     -76.897\n",
      "Norfolk, VA                36.851     -76.286\n",
      "NAS North Island, CA       32.698    -117.204\n",
      "NAS Pax River, MD          38.275     -76.446\n",
      "MCAS Miramar, CA           32.870    -117.144\n",
      "Macguire AFB, NJ           40.035     -74.588\n",
      "NAS Pt. Mugu, CA           34.128    -119.095\n",
      "NAS Fallon, NV             39.420    -118.725\n",
      "NAS Whidbey Island, WA     48.431    -122.672\n",
      "NAWS China Lake, CA        35.655    -117.657\n",
      "Tinker AFB, OK             35.428     -97.416\n",
      "NAS Pensacola, FL          30.378     -87.288\n",
      "NASJRB Fort Worth, TX      32.765     -97.420\n",
      "MCAS Beaufort, SC          32.475     -80.715\n",
      "NAS Lemoore, CA            36.261    -119.911\n",
      "NASJRB New Orleans, LA     29.824     -90.014\n",
      "Stewart ANGB, NY           41.502     -74.083\n",
      "MCAF Quantico, VA          38.502     -77.306\n",
      "NAS Jacksonville, FL       30.223     -81.685\n"
     ]
    }
   ],
   "source": [
    "# SOLUTION\n",
    "# Print table\n",
    "print(\"Customer Location Name   Latitude   Longitude\")\n",
    "print(\"----------------------   --------   ---------\")\n",
    "for i in range(len(customers)):\n",
    "    print(f\"{customers[i]:22s}   {lats[i]:8.3f}   {longs[i]:9.3f}\")"
   ]
  },
  {
   "cell_type": "markdown",
   "metadata": {},
   "source": [
    "<div class=\"alert alert-block alert-warning\">\n",
    "<h3>Problem 6</h3>\n",
    "\n",
    "In the cell below, use a nested `for` loop, appropriate `if-else` logic, and the function `airdist` to create the dictionary, `dist`, of distances from each customer to each facility. The keys of `dist` should be tuples with 2 elements: first, the customer, and second, the facility.\n",
    "    \n",
    "For example, `dist[(customers[2], facilities[4])]` should be the distance between customer 2 and facility 4.\n",
    "    \n",
    "Make sure to set the value of `dist` to 0 whenever the customer and facility are the same location.\n",
    "</div>"
   ]
  },
  {
   "cell_type": "code",
   "execution_count": null,
   "metadata": {},
   "outputs": [],
   "source": []
  },
  {
   "cell_type": "code",
   "execution_count": 5,
   "metadata": {
    "run_control": {
     "marked": true
    }
   },
   "outputs": [],
   "source": [
    "# SOLUTION\n",
    "dist = {}\n",
    "for i in range(len(customers)):\n",
    "    for j in range(len(facilities)):\n",
    "        if i == j:\n",
    "            dist[(customers[i], facilities[j])] = 0\n",
    "        else:\n",
    "            dist[(customers[i], facilities[j])] = airdist(lats[i], longs[i], lats[j], longs[j])"
   ]
  },
  {
   "cell_type": "markdown",
   "metadata": {},
   "source": [
    "## Creating the Pyomo version of the optimization model"
   ]
  },
  {
   "cell_type": "markdown",
   "metadata": {},
   "source": [
    "The code in the cell below creates a Pyomo model of the formulation above, using the information for the printer costs and capacities from the Excel workbook. Run this code."
   ]
  },
  {
   "cell_type": "code",
   "execution_count": 6,
   "metadata": {
    "run_control": {
     "marked": true
    }
   },
   "outputs": [],
   "source": [
    "# Create concrete model\n",
    "model = pyo.ConcreteModel()\n",
    "\n",
    "# Model sets\n",
    "model.I = pyo.Set(initialize=customers, doc='Set of customers')\n",
    "model.J = pyo.Set(initialize=facilities, doc='Set of possible printer locations')\n",
    "model.P = pyo.Set(initialize=num_printers, doc='Set of possible number of printers')\n",
    "\n",
    "# Model parameters\n",
    "# Fixed cost dictionary\n",
    "fixedcost1 = {}\n",
    "rngfixedcost1 = information.range('K2').expand('down')\n",
    "row_index1 = 0\n",
    "for j in model.J:\n",
    "    fixedcost1[j] = rngfixedcost1[row_index1].value\n",
    "    row_index1 += 1\n",
    "\n",
    "fixedcost2 = {}\n",
    "rngfixedcost2 = information.range('L2').expand('down')\n",
    "row_index1 = 0\n",
    "for j in model.J:\n",
    "    fixedcost2[j] = rngfixedcost2[row_index1].value\n",
    "    row_index1 += 1\n",
    "\n",
    "# Capacity dictionaries\n",
    "capacity1 = {}\n",
    "rngcap1 = information.range('H2').expand('down')\n",
    "row_index1 = 0\n",
    "for j in model.J:\n",
    "    capacity1[j] = rngcap1[row_index1].value\n",
    "    row_index1 += 1\n",
    "\n",
    "capacity2 = {}\n",
    "rngcap2 = information.range('I2').expand('down')\n",
    "row_index1 = 0\n",
    "for j in model.J:\n",
    "    capacity2[j] = rngcap2[row_index1].value\n",
    "    row_index1 += 1\n",
    "\n",
    "model.dist = pyo.Param(model.I, model.J, initialize=dist,\n",
    "                       doc='Length of shortest path between nodes i and j')\n",
    "model.beta = pyo.Param(initialize=beta, doc='Takes Distance into account')\n",
    "model.budget = pyo.Param(initialize=TOTAL_BUDGET, doc ='Total Budget')\n",
    "\n",
    "model.penalty1 = pyo.Param(initialize=penalty1, doc='Penalty value for tier 1')\n",
    "model.penalty2 = pyo.Param(initialize=penalty2, doc='Penalty value for Tter 2')\n",
    "\n",
    "model.demand1 = pyo.Param(model.I, initialize=demand1,\n",
    "                          doc='Demand value for customer i for tier 1 parts')\n",
    "model.demand2 = pyo.Param(model.I, initialize=demand2,\n",
    "                          doc='Demand value for customer i for tier 2 parts')\n",
    "\n",
    "model.f1 = pyo.Param(model.J, initialize=fixedcost1,\n",
    "                     doc='Fixed cost for a tier 1 printer at location j')\n",
    "model.f2 = pyo.Param(model.J, initialize=fixedcost2,\n",
    "                     doc='Fixed cost for a tier 2 printer at location j')\n",
    "\n",
    "model.cap1 = pyo.Param(model.J, initialize=capacity1,\n",
    "                       doc='Capacity of facility j for a tier 1 Printer')\n",
    "model.cap2 = pyo.Param(model.J, initialize=capacity2,\n",
    "                       doc='Capacity of facility j for a tier 2 Printer')\n",
    "\n",
    "model.start_cost1 = pyo.Param(model.J, initialize=startup1,\n",
    "                              doc=\"Fee you pay if you open ANY tier 1 at location j\")\n",
    "model.start_cost2 = pyo.Param(model.J, initialize=startup2,\n",
    "                              doc=\"Fee you pay if you open ANY tier 2 at location j\")\n",
    "\n",
    "# Model decision variables\n",
    "model.FRACUN1 = pyo.Var(model.I, bounds=(0.0, 1.0),\n",
    "                        doc='Fraction of demand unfulfilled for tier 1')\n",
    "model.FRACUN2 = pyo.Var(model.I, bounds=(0.0, 1.0),\n",
    "                        doc='Fraction of demand unfulfilled for tier 2')\n",
    "\n",
    "model.OPEN1 = pyo.Var(model.J, model.P, within=pyo.Binary,\n",
    "                      doc='1 if j is a facility, 0 otherwise, for tier 1')\n",
    "model.OPEN2 = pyo.Var(model.J, model.P, within=pyo.Binary,\n",
    "                      doc='1 if j is a facility, 0 otherwise, for tier 2')\n",
    "\n",
    "model.NOT0P1 = pyo.Var(model.J, within=pyo.Binary,\n",
    "                       doc=('1 if there are more than 0 tier 1 printers at location j, '\n",
    "                            '0 if there no printers at j'))\n",
    "model.NOT0P2 = pyo.Var(model.J, within=pyo.Binary,\n",
    "                       doc=('1 if there are more than 0 tier 2 printers at location j, '\n",
    "                            '0 if there no printers at j'))\n",
    "\n",
    "model.SAT1 = pyo.Var(model.I, model.J, bounds=(0.0,  1.0),\n",
    "                     doc='Fraction of node i demand satisfied by facility j, for tier 1')\n",
    "model.SAT2 = pyo.Var(model.I, model.J, bounds=(0.0,  1.0),\n",
    "                     doc='Fraction of node i demand satisfied by facility j, for tier 2')\n",
    "\n",
    "# Model Objective\n",
    "def cost_rule(model):\n",
    "    return (\n",
    "        sum(p * model.f1[j] * model.OPEN1[j,p] for j in model.J for p in model.P) +\n",
    "        sum(p * model.f2[j] * model.OPEN2[j,p] for j in model.J for p in model.P) +\n",
    "        sum(beta * model.demand1[i] * model.dist[i,j] * model.SAT1[i,j]\n",
    "            for i in model.I for j in model.J) +\n",
    "        sum(beta * model.demand2[i] * model.dist[i,j] * model.SAT2[i,j]\n",
    "            for i in model.I for j in model.J) +\n",
    "        sum(penalty1 * model.demand1[i] * model.FRACUN1[i] for i in model.I) +\n",
    "        sum(penalty2 * model.demand2[i] * model.FRACUN2[i] for i in model.I) +\n",
    "        sum(model.start_cost1[j] * model.OPEN1[j,p] for j in model.J for p in model.P) +\n",
    "        sum(model.start_cost2[j] * model.OPEN2[j,p] for j in model.J for p in model.P)\n",
    "    )\n",
    "model.cost = pyo.Objective(rule=cost_rule, sense=pyo.minimize)\n",
    "\n",
    "# Model Constraints\n",
    "def total_budget_rule(model):\n",
    "    return (\n",
    "        sum(p * model.f1[j] * model.OPEN1[j,p] for j in model.J for p in model.P) +\n",
    "        sum(model.start_cost1[j] * model.NOT0P1[j] for j in model.J) +\n",
    "        sum(p * model.f2[j] * model.OPEN2[j,p] for j in model.J for p in model.P) +\n",
    "        sum(model.start_cost2[j] * model.NOT0P2[j] for j in model.J) <= model.budget\n",
    "    )\n",
    "model.total_budget_const = pyo.Constraint(rule=total_budget_rule,\n",
    "                                          doc='Cannot exceed total budget')\n",
    "\n",
    "def sat_plus_unsat_is_one_rule(model, i):\n",
    "    return sum(model.SAT1[i,j] for j in model.J) + model.FRACUN1[i] == 1\n",
    "model.sat_plus_unsat_is_one_rule = pyo.Constraint(\n",
    "    model.I, rule=sat_plus_unsat_is_one_rule,\n",
    "    doc='Total demand met by sum of all facilities plus slack for tier 1'\n",
    ")\n",
    "\n",
    "def sat_plus_unsat_is_one_rule2(model, i):\n",
    "    return sum(model.SAT2[i,j] for j in model.J) + model.FRACUN2[i] == 1\n",
    "model.sat_plus_unsat_is_one_rule2 = pyo.Constraint(\n",
    "    model.I, rule=sat_plus_unsat_is_one_rule2,\n",
    "    doc='Total demand met by sum of all facilities plus slack for tier 2'\n",
    ")\n",
    "\n",
    "def one_loc(model, j):\n",
    "    return sum(model.OPEN1[j,p] for p in model.P) == 1\n",
    "model.one_loc = pyo.Constraint(\n",
    "    model.J, rule=one_loc,\n",
    "    doc='Exactly one number of printers at each location'\n",
    ")\n",
    "\n",
    "def one_loc2(model, j):\n",
    "    return sum(model.OPEN2[j,p] for p in model.P) == 1\n",
    "model.one_loc2 = pyo.Constraint(\n",
    "    model.J, rule=one_loc2,\n",
    "    doc = 'Exactly one number of printers at each location'\n",
    ")\n",
    "\n",
    "def tier1_logic_one_rule(model, j):\n",
    "     return sum(p * model.OPEN1[j,p] for p in model.P) <= M * model.NOT0P1[j]\n",
    "model.tier1_logic_one_rule = pyo.Constraint(\n",
    "    model.J, rule=tier1_logic_one_rule, doc='Force 1 for NOT0P1 when p > 0'\n",
    ")\n",
    "\n",
    "def tier2_logic_one_rule(model, j):\n",
    "     return sum(p * model.OPEN2[j,p] for p in model.P) <= M * model.NOT0P2[j]\n",
    "model.tier2_logic_one_rule = pyo.Constraint(\n",
    "    model.J, rule=tier2_logic_one_rule, doc='Force 1 for NOT0P2 when p > 0'\n",
    ")\n",
    "\n",
    "def tier1_logic_two_rule(model, j):\n",
    "     return sum(p * model.OPEN1[j,p] for p in model.P) >= model.NOT0P1[j]\n",
    "model.tier1_logic_two_rule = pyo.Constraint(\n",
    "    model.J, rule=tier1_logic_two_rule, doc='Force 0 for NOT0P1 when p = 0'\n",
    ")\n",
    "\n",
    "def tier2_logic_two_rule(model, j):\n",
    "     return sum(p * model.OPEN2[j,p] for p in model.P) >= model.NOT0P2[j]\n",
    "model.tier2_logic_two_rule = pyo.Constraint(\n",
    "    model.J, rule=tier2_logic_two_rule, doc='Force 0 for NOT0P2 when p = 0'\n",
    ")\n",
    "\n",
    "def demand_met_only_if_open_rule(model, j):\n",
    "     return (\n",
    "         sum(model.demand1[i] * model.SAT1[i,j] for i in model.I) <=\n",
    "         sum(p * model.cap1[j] * model.OPEN1[j,p] for p in model.P)\n",
    "     )\n",
    "model.demand_met_only_if_open_rule = pyo.Constraint(\n",
    "    model.J, rule=demand_met_only_if_open_rule,\n",
    "    doc='Facility can only satisfy demand if open'\n",
    ")\n",
    "\n",
    "def demand_met_only_if_open_rule2(model,j):\n",
    "     return (\n",
    "         sum(model.demand2[i] * model.SAT2[i,j] for i in model.I) <=\n",
    "         sum(p*model.cap2[j]*model.OPEN2[j,p] for p in model.P)\n",
    "     )\n",
    "model.demand_met_only_if_open_rule2 = pyo.Constraint(\n",
    "    model.J, rule=demand_met_only_if_open_rule2,\n",
    "    doc='Facility can only satisfy demand if open'\n",
    ")"
   ]
  },
  {
   "cell_type": "markdown",
   "metadata": {},
   "source": [
    "## Solving the optimization model"
   ]
  },
  {
   "cell_type": "markdown",
   "metadata": {},
   "source": [
    "The code in the cell below solves the model using the GLPK solver.  The code\n",
    "\n",
    "```Python\n",
    "opt.options[\"mipgap\"] = 0.10\n",
    "```\n",
    "\n",
    "stops the solver when it is within 10% of the optimal solution.  You'll learn more about what this means in SA405. We use this option here because this model can take a while to solve to optimality, especially when using the GLPK solver.  \n",
    "\n",
    "Run this code, and wait until it says \"RELATIVE MIP GAP TOLERANCE REACHED; SEARCH TERMINATED\" before running any of the code below."
   ]
  },
  {
   "cell_type": "code",
   "execution_count": 7,
   "metadata": {
    "run_control": {
     "marked": true
    }
   },
   "outputs": [
    {
     "name": "stdout",
     "output_type": "stream",
     "text": [
      "GLPSOL: GLPK LP/MIP Solver, v4.65\n",
      "Parameter(s) specified in the command line:\n",
      " --mipgap 0.1 --write /var/folders/5k/rxb0jk152pb3hcrczw45mrm40000gn/T/tmp18pnwm0k.glpk.raw\n",
      " --wglp /var/folders/5k/rxb0jk152pb3hcrczw45mrm40000gn/T/tmpd77nvqzq.glpk.glp\n",
      " --cpxlp /var/folders/5k/rxb0jk152pb3hcrczw45mrm40000gn/T/tmpsjxzoaq3.pyomo.lp\n",
      "Reading problem data from '/var/folders/5k/rxb0jk152pb3hcrczw45mrm40000gn/T/tmpsjxzoaq3.pyomo.lp'...\n",
      "/var/folders/5k/rxb0jk152pb3hcrczw45mrm40000gn/T/tmpsjxzoaq3.pyomo.lp:14690: warning: lower bound of variable 'x47' redefined\n",
      "/var/folders/5k/rxb0jk152pb3hcrczw45mrm40000gn/T/tmpsjxzoaq3.pyomo.lp:14690: warning: upper bound of variable 'x47' redefined\n",
      "232 rows, 2531 columns, 9017 non-zeros\n",
      "1426 integer variables, all of which are binary\n",
      "16116 lines were read\n",
      "Writing problem data to '/var/folders/5k/rxb0jk152pb3hcrczw45mrm40000gn/T/tmpd77nvqzq.glpk.glp'...\n",
      "15558 lines were written\n",
      "GLPK Integer Optimizer, v4.65\n",
      "232 rows, 2531 columns, 9017 non-zeros\n",
      "1426 integer variables, all of which are binary\n",
      "Preprocessing...\n",
      "46 hidden covering inequaliti(es) were detected\n",
      "231 rows, 2392 columns, 8510 non-zeros\n",
      "1334 integer variables, all of which are binary\n",
      "Scaling...\n",
      " A: min|aij| =  1.000e+00  max|aij| =  5.000e+06  ratio =  5.000e+06\n",
      "GM: min|aij| =  2.098e-01  max|aij| =  4.766e+00  ratio =  2.271e+01\n",
      "EQ: min|aij| =  4.681e-02  max|aij| =  1.000e+00  ratio =  2.136e+01\n",
      "2N: min|aij| =  2.289e-02  max|aij| =  1.465e+00  ratio =  6.400e+01\n",
      "Constructing initial basis...\n",
      "Size of triangular part is 231\n",
      "Solving LP relaxation...\n",
      "GLPK Simplex Optimizer, v4.65\n",
      "231 rows, 2392 columns, 8510 non-zeros\n",
      "      0: obj =   6.583543000e+09 inf =   2.623e+02 (47)\n",
      "     47: obj =   6.469143000e+09 inf =   2.220e-16 (0)\n",
      "*   319: obj =   7.132248214e+08 inf =   6.559e-15 (0) 1\n",
      "OPTIMAL LP SOLUTION FOUND\n",
      "Integer optimization begins...\n",
      "Long-step dual simplex will be used\n",
      "+   319: mip =     not found yet >=              -inf        (1; 0)\n",
      "+   538: >>>>>   7.925315445e+08 >=   7.137752770e+08   9.9% (104; 0)\n",
      "+   538: mip =   7.925315445e+08 >=   7.137752770e+08   9.9% (100; 4)\n",
      "RELATIVE MIP GAP TOLERANCE REACHED; SEARCH TERMINATED\n",
      "Time used:   0.3 secs\n",
      "Memory used: 2.9 Mb (3006952 bytes)\n",
      "Writing MIP solution to '/var/folders/5k/rxb0jk152pb3hcrczw45mrm40000gn/T/tmp18pnwm0k.glpk.raw'...\n",
      "2772 lines were written\n"
     ]
    }
   ],
   "source": [
    "# Solve the model\n",
    "from pyomo.opt import SolverFactory\n",
    "opt = SolverFactory(\"glpk\")\n",
    "\n",
    "# Change MIP gap option in case it takes too long to solve\n",
    "opt.options[\"mipgap\"] = 0.10\n",
    "\n",
    "results = opt.solve(model, tee = True)"
   ]
  },
  {
   "cell_type": "markdown",
   "metadata": {},
   "source": [
    "## Displaying the optimization results as text"
   ]
  },
  {
   "cell_type": "markdown",
   "metadata": {},
   "source": [
    "### Tier 1"
   ]
  },
  {
   "cell_type": "markdown",
   "metadata": {},
   "source": [
    "The code in the cell below writes the tier 1 results from the optimization model to the screen and the Excel workbook on the **Results** worksheet:\n",
    "\n",
    "- The code produces a table of all the customer locations and how many printers are at that location in the optimal solution.  \n",
    "\n",
    "- The code also produces a table that shows each customer location that has its demand filled, and the printer location that satisfied the demand along with the fraction that it supplied.\n",
    "\n",
    "- Finally, the code produces a table of locations that did not have all of their demand fulfilled along with the fraction of demand that was unfulfilled at that location. \n",
    "\n",
    "Look through this code, reading the comments to understand what different portions of the code are doing.  Run this code."
   ]
  },
  {
   "cell_type": "code",
   "execution_count": 8,
   "metadata": {
    "run_control": {
     "marked": true
    }
   },
   "outputs": [
    {
     "name": "stdout",
     "output_type": "stream",
     "text": [
      "Results\n",
      "\n",
      "Minimum weighted distance is 792531544.4600626\n",
      "\n",
      "----------------------------------------------------------------\n",
      "Tier 1\n",
      "\n",
      "Printer Location         Number of Printers\n",
      "----------------------   ------------------\n",
      "New River, NC            0\n",
      "Camp Pendleton, CA       27\n",
      "Lakehurst, NJ            0\n",
      "Yuma, AZ                 0\n",
      "Cherry Point, NC         0\n",
      "Norfolk, VA              0\n",
      "NAS North Island, CA     11\n",
      "NAS Pax River, MD        0\n",
      "MCAS Miramar, CA         0\n",
      "Macguire AFB, NJ         0\n",
      "NAS Pt. Mugu, CA         0\n",
      "NAS Fallon, NV           0\n",
      "NAS Whidbey Island, WA   0\n",
      "NAWS China Lake, CA      0\n",
      "Tinker AFB, OK           0\n",
      "NAS Pensacola, FL        0\n",
      "NASJRB Fort Worth, TX    0\n",
      "MCAS Beaufort, SC        0\n",
      "NAS Lemoore, CA          0\n",
      "NASJRB New Orleans, LA   0\n",
      "Stewart ANGB, NY         0\n",
      "MCAF Quantico, VA        0\n",
      "NAS Jacksonville, FL     0\n",
      "\n",
      "\n",
      "Customer Location        Printer Location         Percent of Service\n",
      "----------------------   ----------------------   ------------------\n",
      "New River, NC            Camp Pendleton, CA       1.000\n",
      "Camp Pendleton, CA       Camp Pendleton, CA       1.000\n",
      "Lakehurst, NJ            Camp Pendleton, CA       1.000\n",
      "Yuma, AZ                 NAS North Island, CA     1.000\n",
      "Cherry Point, NC         Camp Pendleton, CA       1.000\n",
      "Norfolk, VA              Camp Pendleton, CA       1.000\n",
      "NAS North Island, CA     NAS North Island, CA     1.000\n",
      "NAS Pax River, MD        Camp Pendleton, CA       1.000\n",
      "MCAS Miramar, CA         NAS North Island, CA     1.000\n",
      "Macguire AFB, NJ         Camp Pendleton, CA       1.000\n",
      "NAS Pt. Mugu, CA         Camp Pendleton, CA       1.000\n",
      "NAS Fallon, NV           Camp Pendleton, CA       1.000\n",
      "NAS Whidbey Island, WA   Camp Pendleton, CA       1.000\n",
      "NAWS China Lake, CA      Camp Pendleton, CA       1.000\n",
      "Tinker AFB, OK           Camp Pendleton, CA       1.000\n",
      "NAS Pensacola, FL        NAS North Island, CA     1.000\n",
      "NASJRB Fort Worth, TX    NAS North Island, CA     1.000\n",
      "MCAS Beaufort, SC        Camp Pendleton, CA       0.709\n",
      "MCAS Beaufort, SC        NAS North Island, CA     0.291\n",
      "NAS Lemoore, CA          Camp Pendleton, CA       1.000\n",
      "NASJRB New Orleans, LA   NAS North Island, CA     1.000\n",
      "Stewart ANGB, NY         Camp Pendleton, CA       1.000\n",
      "MCAF Quantico, VA        Camp Pendleton, CA       1.000\n",
      "NAS Jacksonville, FL     NAS North Island, CA     1.000\n",
      "\n",
      "\n",
      "Customer Location        Fraction Unfulfilled\n",
      "----------------------   -------------------\n"
     ]
    }
   ],
   "source": [
    "# Worksheet for results\n",
    "sresults = wb.sheets['Results']\n",
    "\n",
    "# Clear any existing information in the spreadsheet on the Results worksheet\n",
    "sresults.clear_contents()\n",
    "\n",
    "# Write the objective value to the screen and generate the column headings in Excel\n",
    "print(\"Results\\n\")\n",
    "print(\"Minimum weighted distance is \" + str(pyo.value(model.cost)) +\"\\n\")\n",
    "print(\"----------------------------------------------------------------\")\n",
    "print(\"Tier 1\\n\")\n",
    "sresults.range('A1').value = 'Tier 1 Results'\n",
    "sresults.range('A2').value = 'Printer Location'\n",
    "sresults.range('B2').value = 'Number of Printers'\n",
    "\n",
    "# Use this to help keep track of row number in Excel\n",
    "row_num = 3\n",
    "\n",
    "# Create blank lists to store the Tier 1 facility locations\n",
    "# and how many printers are at those locations in the optimal solution\n",
    "sol_facilities_t1 = []\n",
    "number_of_t1 = []\n",
    "\n",
    "# Write the locations and number of printers to screen\n",
    "# and the Excel Results worksheet\n",
    "print(\"Printer Location         Number of Printers\")\n",
    "print(\"----------------------   ------------------\")\n",
    "for j in model.J:\n",
    "    for p in model.P:\n",
    "\n",
    "        # Technically want != 0 on the line below,\n",
    "        # but we get \"noise\" in output with very small approximately\n",
    "        # 0 values.  Use > 0.000001 instead to eliminate this issue.\n",
    "        if model.OPEN1[j,p].value > 0.000001:\n",
    "            print(f\"{j:22s}   {p:0.0f}\")\n",
    "            sresults.range(f'A{row_num}').value = j\n",
    "            sresults.range(f\"B{row_num}\").value = p\n",
    "            row_num += 1\n",
    "\n",
    "            # If there are more than 0 printers at a given location,\n",
    "            # append that location to sol_facilities_t1 and append\n",
    "            # the number of printers to number_of_t1.\n",
    "            if p > 0:\n",
    "                sol_facilities_t1.append(j)\n",
    "                number_of_t1.append(p)\n",
    "\n",
    "# Create a blank index list to store the indices of the locations\n",
    "# that have more than 0 printers in the optimal solution\n",
    "sol_fac_t1_idx = []\n",
    "\n",
    "# Loop through all the solution facilities that had more than\n",
    "# 0 printers in the optimal solution\n",
    "for i in sol_facilities_t1:\n",
    "    # Append the index of the customer location from the customers\n",
    "    # list to the sol_fac_t1_idx list\n",
    "    sol_fac_t1_idx.append(customers.index(i))\n",
    "\n",
    "# Create a blank index list to store the indices of the number of printers\n",
    "# for the locations that have more than 0 printers in the optimal solution\n",
    "number_of_t1_idx = []\n",
    "\n",
    "# Loop through all the solution printer numbers that had more than\n",
    "# 0 printers in the optimal solution\n",
    "for p in number_of_t1:\n",
    "    # Append the index of the printer number from the NumOfPrinters\n",
    "    # list to the number_of_t1_idx list\n",
    "    number_of_t1_idx.append(num_printers.index(p))\n",
    "\n",
    "# Create blank list to store the longitudes of the locations that have\n",
    "# more than 0 printers in the optimal solution\n",
    "sol_longs_t1 = []\n",
    "\n",
    "# Create blank list to store the latitudes of the locations that have\n",
    "# more than 0 printers in the optimal solution\n",
    "sol_lats_t1 = []\n",
    "\n",
    "# Loop through all the indices of facilities that have more than\n",
    "# 0 printers in the optimal solution\n",
    "for i in sol_fac_t1_idx:\n",
    "    # Append the longs and lats for those facilities to the lists\n",
    "    # sol_longs_t1 and sol_lats_t1\n",
    "    sol_longs_t1.append(longs[i])\n",
    "    sol_lats_t1.append(lats[i])\n",
    "\n",
    "# Add an extra blank row for Excel output\n",
    "row_num += 1\n",
    "\n",
    "# Create column headers for the Excel spreadsheet Results worksheet\n",
    "sresults.range(f'A{row_num}').value = 'Customer Location'\n",
    "sresults.range(f'B{row_num}').value = 'Printer Location'\n",
    "sresults.range(f'C{row_num}').value = 'Percent of Service'\n",
    "\n",
    "# Add an extra blank row for Excel output\n",
    "row_num += 1\n",
    "\n",
    "# Determine which printer locations service which customer locations\n",
    "# and write those pairings to the screen and Excel spreadsheet\n",
    "print(\"\\n\")\n",
    "print(\"Customer Location        Printer Location         Percent of Service\")\n",
    "print(\"----------------------   ----------------------   ------------------\")\n",
    "for i in model.I:\n",
    "    for j in model.J:\n",
    "        if model.SAT1[i,j].value > 0.000001:\n",
    "            print(f\"{i:22s}   {j:22s}   {model.SAT1[i,j].value:.3f}\")\n",
    "            sresults.range(f'A{row_num}').value = i\n",
    "            sresults.range(f\"B{row_num}\").value = j\n",
    "            sresults.range(f'C{row_num}').value = model.SAT1[i,j].value\n",
    "            row_num += 1\n",
    "\n",
    "# Add an extra blank row for Excel output\n",
    "row_num += 1\n",
    "\n",
    "# Create column headers for the Excel spreadsheet Results worksheet\n",
    "sresults.range(f'A{row_num}').value = 'Customer Location'\n",
    "sresults.range(f'B{row_num}').value = 'Fraction Unfulfilled'\n",
    "\n",
    "# Add an extra blank row for Excel output\n",
    "row_num += 1\n",
    "\n",
    "# Determine which customer locations have unfulfilled demand and\n",
    "# what fraction is unfulfilled.  Write these values to the screen\n",
    "# and the Excel spreadsheet.\n",
    "print(\"\\n\")\n",
    "print(\"Customer Location        Fraction Unfulfilled\")\n",
    "print(\"----------------------   -------------------\")\n",
    "\n",
    "for i in model.I:\n",
    "    if model.FRACUN1[i].value > 0.000001:\n",
    "        print(f\"{i:22s}   {model.FRACUN1[i].value:.3f}\")\n",
    "        sresults.range(f'A{row_num}').value = i\n",
    "        sresults.range(f'B{row_num}').value = model.FRACUN1[i].value\n",
    "        row_num += 1"
   ]
  },
  {
   "cell_type": "markdown",
   "metadata": {},
   "source": [
    "### Tier 2"
   ]
  },
  {
   "cell_type": "markdown",
   "metadata": {},
   "source": [
    "The code in the cell below writes the same results as above, but for tier 2.  The code is essentially the same, but with fewer comments.  Run this code."
   ]
  },
  {
   "cell_type": "code",
   "execution_count": 9,
   "metadata": {
    "run_control": {
     "marked": true
    }
   },
   "outputs": [
    {
     "name": "stdout",
     "output_type": "stream",
     "text": [
      "Tier 2\n",
      "\n",
      "Printer Location         Number of Printers\n",
      "----------------------   ------------------\n",
      "New River, NC            19\n",
      "Camp Pendleton, CA       4\n",
      "Lakehurst, NJ            0\n",
      "Yuma, AZ                 0\n",
      "Cherry Point, NC         0\n",
      "Norfolk, VA              0\n",
      "NAS North Island, CA     0\n",
      "NAS Pax River, MD        0\n",
      "MCAS Miramar, CA         0\n",
      "Macguire AFB, NJ         0\n",
      "NAS Pt. Mugu, CA         0\n",
      "NAS Fallon, NV           0\n",
      "NAS Whidbey Island, WA   0\n",
      "NAWS China Lake, CA      0\n",
      "Tinker AFB, OK           0\n",
      "NAS Pensacola, FL        0\n",
      "NASJRB Fort Worth, TX    0\n",
      "MCAS Beaufort, SC        0\n",
      "NAS Lemoore, CA          0\n",
      "NASJRB New Orleans, LA   0\n",
      "Stewart ANGB, NY         0\n",
      "MCAF Quantico, VA        0\n",
      "NAS Jacksonville, FL     0\n",
      "\n",
      "\n",
      "Customer Location        Printer Location         Percent of Service\n",
      "----------------------   ----------------------   ------------------\n",
      "New River, NC            New River, NC            1.000\n",
      "Camp Pendleton, CA       Camp Pendleton, CA       1.000\n",
      "Lakehurst, NJ            New River, NC            1.000\n",
      "Cherry Point, NC         New River, NC            1.000\n",
      "Norfolk, VA              New River, NC            1.000\n",
      "NAS Pax River, MD        New River, NC            1.000\n",
      "MCAS Miramar, CA         Camp Pendleton, CA       0.797\n",
      "Macguire AFB, NJ         New River, NC            1.000\n",
      "NAS Pensacola, FL        New River, NC            0.456\n",
      "MCAS Beaufort, SC        New River, NC            1.000\n",
      "Stewart ANGB, NY         New River, NC            1.000\n",
      "MCAF Quantico, VA        New River, NC            1.000\n",
      "NAS Jacksonville, FL     New River, NC            1.000\n",
      "\n",
      "\n",
      "Customer Location        Fraction Unfulfilled\n",
      "----------------------   -------------------\n",
      "Yuma, AZ                 1.000\n",
      "NAS North Island, CA     1.000\n",
      "MCAS Miramar, CA         0.203\n",
      "NAS Pt. Mugu, CA         1.000\n",
      "NAS Fallon, NV           1.000\n",
      "NAS Whidbey Island, WA   1.000\n",
      "NAWS China Lake, CA      1.000\n",
      "Tinker AFB, OK           1.000\n",
      "NAS Pensacola, FL        0.544\n",
      "NASJRB Fort Worth, TX    1.000\n",
      "NAS Lemoore, CA          1.000\n",
      "NASJRB New Orleans, LA   1.000\n"
     ]
    }
   ],
   "source": [
    "print(\"Tier 2\\n\")\n",
    "\n",
    "sresults.range('E1').value = 'Tier 2 Results'\n",
    "sresults.range('E2').value = 'Printer Location'\n",
    "sresults.range('F2').value = 'Number of Printers'\n",
    "\n",
    "# Use this to help keep track of row number in Excel\n",
    "row_num = 3\n",
    "\n",
    "sol_facilities_t2 = []\n",
    "number_of_t2 = []\n",
    "print(\"Printer Location         Number of Printers\")\n",
    "print(\"----------------------   ------------------\")\n",
    "for j in model.J:\n",
    "    for p in model.P:\n",
    "        if model.OPEN2[j,p].value > 0.000001:\n",
    "            print(f\"{j:22s}   {p:0.0f}\")\n",
    "            sresults.range(f'E{row_num}').value = j\n",
    "            sresults.range(f\"F{row_num}\").value = p\n",
    "            row_num += 1\n",
    "            if p > 0:\n",
    "                sol_facilities_t2.append(j)\n",
    "                number_of_t2.append(p)\n",
    "\n",
    "sol_fac_t2_idx = []\n",
    "for i in sol_facilities_t2:\n",
    "    sol_fac_t2_idx.append(customers.index(i))\n",
    "\n",
    "number_of_t2_idx = []\n",
    "for p in number_of_t2:\n",
    "    number_of_t2_idx.append(num_printers.index(p))\n",
    "\n",
    "sol_longs_t2 = []\n",
    "sol_lats_t2 = []\n",
    "for i in sol_fac_t2_idx:\n",
    "    sol_longs_t2.append(longs[i])\n",
    "    sol_lats_t2.append(lats[i])\n",
    "\n",
    "\n",
    "# Add an extra blank row for Excel output\n",
    "row_num += 1\n",
    "\n",
    "sresults.range(f'E{row_num}').value = 'Customer Location'\n",
    "sresults.range(f'F{row_num}').value = 'Printer Location'\n",
    "sresults.range(f'G{row_num}').value = 'Percent of Service'\n",
    "\n",
    "row_num += 1\n",
    "\n",
    "# Determine which printers service which locations\n",
    "print(\"\\n\")\n",
    "print(\"Customer Location        Printer Location         Percent of Service\")\n",
    "print(\"----------------------   ----------------------   ------------------\")\n",
    "for i in model.I:\n",
    "    for j in model.J:\n",
    "        if model.SAT2[i,j].value > 0.000001:\n",
    "            print(f\"{i:22s}   {j:22s}   {model.SAT2[i,j].value:.3f}\")\n",
    "            sresults.range(f'E{row_num}').value = i\n",
    "            sresults.range(f\"F{row_num}\").value = j\n",
    "            sresults.range(f'G{row_num}').value = model.SAT2[i,j].value\n",
    "            row_num += 1\n",
    "\n",
    "row_num += 1\n",
    "\n",
    "sresults.range(f'E{row_num}').value = 'Customer Location'\n",
    "sresults.range(f'F{row_num}').value = 'Fraction Unfulfilled'\n",
    "\n",
    "row_num += 1\n",
    "\n",
    "# Determine locations with unfulfilled demand\n",
    "print(\"\\n\")\n",
    "print(\"Customer Location        Fraction Unfulfilled\")\n",
    "print(\"----------------------   -------------------\")\n",
    "\n",
    "for i in model.I:\n",
    "    if model.FRACUN2[i].value > 0.000001:\n",
    "        print(f\"{i:22s}   {model.FRACUN2[i].value:.3f}\")\n",
    "        sresults.range(f'E{row_num}').value = i\n",
    "        sresults.range(f'F{row_num}').value = model.FRACUN2[i].value\n",
    "        row_num += 1"
   ]
  },
  {
   "cell_type": "markdown",
   "metadata": {},
   "source": [
    "## Displaying the results of the optimization graphically"
   ]
  },
  {
   "cell_type": "markdown",
   "metadata": {},
   "source": [
    "While it is important to have the detailed information provided by the tabular results we generated above, it is often useful to display this same information graphically as well.  This section describes how the information can be displayed graphically both to the screen and the Excel workbook."
   ]
  },
  {
   "cell_type": "markdown",
   "metadata": {},
   "source": [
    "We begin by constructing a dictionary to store the information we will need to plot any locations that have more than zero printers in the optimal solution.  Look at the code below, including the in-line comments to make sure you understand what it is doing.  Note how the data for the two different tiers are separated in the dictionary.  Run this code."
   ]
  },
  {
   "cell_type": "code",
   "execution_count": 10,
   "metadata": {
    "run_control": {
     "marked": true
    }
   },
   "outputs": [],
   "source": [
    "# Initialize the blank dictionary\n",
    "overall_coords = {}\n",
    "\n",
    "# Add the key, value pairs for tier 1 longitudes where > 0 printers will be located\n",
    "overall_coords[('tier1', 'longs')] = sol_longs_t1\n",
    "\n",
    "# Add the key, value pairs for tier 1 latitudes where > 0 printers will be located\n",
    "overall_coords[('tier1', 'lats')] = sol_lats_t1\n",
    "\n",
    "# Add the key, value pairs for tier 1 where number of printers > 0 \n",
    "overall_coords[('tier1', 'NumberOfPrinters')] = number_of_t1_idx\n",
    "\n",
    "# Add the key, value pairs for tier 2 longitudes where > 0 printers will be located\n",
    "overall_coords[('tier2', 'longs')] = sol_longs_t2\n",
    "\n",
    "# Add the key, value pairs for tier 2 latitudes where > 0 printers will be located\n",
    "overall_coords[('tier2', 'lats')] = sol_lats_t2\n",
    "\n",
    "# Add the key, value pairs for tier 2 where number of printers > 0\n",
    "overall_coords[('tier2', 'NumberOfPrinters')] = number_of_t2_idx"
   ]
  },
  {
   "cell_type": "markdown",
   "metadata": {},
   "source": [
    "<div class=\"alert alert-block alert-warning\">\n",
    "<h3>Problem 7</h3>\n",
    "\n",
    "In the cell below, write code to print the contents of `overall_coords` to the output terminal.  Look through the printed output to make sure you understand what information is stored in the dictionary `overall_coords`.\n",
    "</div>"
   ]
  },
  {
   "cell_type": "code",
   "execution_count": null,
   "metadata": {},
   "outputs": [],
   "source": []
  },
  {
   "cell_type": "code",
   "execution_count": 11,
   "metadata": {
    "run_control": {
     "marked": true
    },
    "scrolled": true
   },
   "outputs": [
    {
     "name": "stdout",
     "output_type": "stream",
     "text": [
      "{('tier1', 'longs'): [-117.3205, -117.2044], ('tier1', 'lats'): [33.3178, 32.6978], ('tier1', 'NumberOfPrinters'): [27, 11], ('tier2', 'longs'): [-77.4097, -117.3205], ('tier2', 'lats'): [34.7574, 33.3178], ('tier2', 'NumberOfPrinters'): [19, 4]}\n"
     ]
    }
   ],
   "source": [
    "# SOLUTION\n",
    "print(overall_coords)"
   ]
  },
  {
   "cell_type": "markdown",
   "metadata": {},
   "source": [
    "### Graphical representation of tier 1 printers"
   ]
  },
  {
   "cell_type": "markdown",
   "metadata": {},
   "source": [
    "The code below produces a graphical representation of the optimal solution for tier 1 printers.  Key features of the graphical output include the following:\n",
    "\n",
    " - A map of the continential U.S. with state borders, rivers, and lakes\n",
    " - Customer locations plotted with red circles\n",
    " - Printer locations plotted with blue pentagons that increase in size as the number of printers at the location increase\n",
    " - A legend to indicate the meaning of the different color markers\n",
    " - Lines with different thickness levels between cutomers and printers to indicate the level of satisfaction provided \n",
    "\n",
    "Look through the code below and read the in-line comments to help you understand what different portions of the code are doing. Run the code and look at the resulting output in Jupyter and the Map1 worksheet in Excel."
   ]
  },
  {
   "cell_type": "code",
   "execution_count": 12,
   "metadata": {
    "run_control": {
     "marked": true
    }
   },
   "outputs": [
    {
     "data": {
      "image/png": "[encoded data removed]",
      "text/plain": [
       "<Figure size 648x432 with 1 Axes>"
      ]
     },
     "metadata": {
      "needs_background": "light"
     },
     "output_type": "display_data"
    },
    {
     "data": {
      "text/plain": [
       "<Picture 'Tier 1 Location Map' in <Sheet [3DPrintingFacilityLocation.xlsx]Map1>>"
      ]
     },
     "execution_count": 12,
     "metadata": {},
     "output_type": "execute_result"
    }
   ],
   "source": [
    "# Import necessary plotting modules\n",
    "import cartopy\n",
    "import matplotlib.pyplot as plt\n",
    "\n",
    "# Create a figure for tier 1 information that contains a Continental US map\n",
    "fig = plt.figure(figsize=(9, 6))\n",
    "ax = plt.axes(projection=cartopy.crs.PlateCarree())\n",
    "ax.stock_img()\n",
    "ax.add_feature(cartopy.feature.LAND)\n",
    "ax.add_feature(cartopy.feature.OCEAN)\n",
    "ax.add_feature(cartopy.feature.COASTLINE)\n",
    "ax.add_feature(cartopy.feature.BORDERS, linestyle='-')\n",
    "ax.add_feature(cartopy.feature.STATES, linestyle=':')\n",
    "ax.add_feature(cartopy.feature.LAKES, alpha=0.5)\n",
    "ax.add_feature(cartopy.feature.RIVERS)\n",
    "ax.set_extent([-130, -60, 25, 50])  # Continental US Only\n",
    "\n",
    "# Plot the customer locations with red circles\n",
    "ax.plot(longs, lats,'ro', label='Customers')\n",
    "\n",
    "# Loop over entries in overall_coords related to tier 1\n",
    "for i in range(len(overall_coords[('tier1', 'longs')])):\n",
    "    # Plot the locations that have > 0 printers with blue pentagons\n",
    "    # Note that the sizes of the pentagons increase as the number or printers\n",
    "    # at that location increase\n",
    "    ax.plot(overall_coords[('tier1', 'longs')][i], overall_coords[('tier1', 'lats')][i],\n",
    "            'bp', ms=(overall_coords[('tier1', 'NumberOfPrinters')][i] * 0.8) + 2)\n",
    "\n",
    "# Plot locations that have > 0 printers with \"default size\" blue pentagons again\n",
    "# so that a single \"default size\" blue pentagon will appear in the graph legend\n",
    "# for Tier 1 Printer Locations\n",
    "ax.plot(overall_coords[('tier1', 'longs')], overall_coords[('tier1', 'lats')],\n",
    "        'bp', ms=8, label='Tier 1 Printer Locations')\n",
    "\n",
    "# Now plot connections that exist between customers and printers based on the\n",
    "# amount of satisfaction\n",
    "longsconnect = []\n",
    "latsconnect = []\n",
    "for i in model.I:\n",
    "    for j in model.J:\n",
    "        # First check to see if the amount of satisfaction is \"significant\"\n",
    "        # Ideally we would say != 0 here, but then we get \"noise\" solutions based\n",
    "        # on numerical precision issues where the amount of satisfaction is\n",
    "        # essentially zero, but NOT actually zero\n",
    "        if model.SAT1[i,j].value > 0.000001:\n",
    "\n",
    "            # Look up the longitudes for the connected locations and put them in a list\n",
    "            longsconnect = [longs[customers.index(i)], longs[customers.index(j)]]\n",
    "\n",
    "            # Look up the latitudes for the connected locations and put them in a list\n",
    "            latsconnect = [lats[customers.index(i)], lats[customers.index(j)]]\n",
    "\n",
    "            # Check the amount of satisfaction provided from the printer\n",
    "            # location to the customer\n",
    "            # If the amount of satisfaction is >= 75% we connect those\n",
    "            # locations with a \"thick\" blue solid line\n",
    "            if model.SAT1[i,j].value >= 0.75:\n",
    "                ax.plot(longsconnect, latsconnect, 'b-', linewidth=2)\n",
    "\n",
    "            # If the amount of satisfaction is >= 50% we connect those\n",
    "            # locations with a \"less thick\" blue solid line\n",
    "            elif model.SAT1[i,j].value >= 0.5:\n",
    "                ax.plot(longsconnect, latsconnect, 'b-', linewidth=1)\n",
    "\n",
    "            # If the amount of satisfaction is >= 25% we connect those\n",
    "            # locations with an \"even less thick\" blue solid line\n",
    "            elif model.SAT1[i,j].value >= 0.25:\n",
    "                ax.plot(longsconnect, latsconnect, 'b-', linewidth=0.75)\n",
    "\n",
    "            # If the amount of satisfaction is < 25% we connect those locations\n",
    "            # with an \"even less thick\" blue dashed line.\n",
    "            else:\n",
    "                ax.plot(longsconnect, latsconnect, 'b--', linewidth=0.75)\n",
    "\n",
    "            # Here we \"empty\" the two lists longsconnect and latsconntect\n",
    "            # to be ready for the next pairing of customer to printer\n",
    "            longsconnect = []\n",
    "            latsconnect = []\n",
    "\n",
    "# Add an overall title to the figure\n",
    "ax.set_title('Tier 1 Location Map')\n",
    "\n",
    "# Add a legend that appears in the upper center of the figure\n",
    "legend = ax.legend(loc='upper center', shadow=True, fontsize='x-large')\n",
    "\n",
    "# Plot the figure on the output terminal\n",
    "plt.show()\n",
    "\n",
    "# Worksheet where figure will go in the Excel file\n",
    "smap1 = wb.sheets['Map1']\n",
    "\n",
    "# Count how many pictures are currently on the Map1 worksheet\n",
    "num_pics = smap1.pictures.count\n",
    "\n",
    "# Loop over the number of pictures currently on the Map1 worksheet\n",
    "for i in range(num_pics):\n",
    "    # Name the pictures that are currently on the Map1 worksheet 1 at a time\n",
    "    pic_name = smap1.pictures[i].name\n",
    "\n",
    "    # Delete any exsisting images on the Map1 worksheet 1 at a time\n",
    "    smap1.pictures[pic_name].delete()\n",
    "\n",
    "# Write figure to Excel worksheet\n",
    "smap1.pictures.add(fig, name='Tier 1 Location Map', update=True)"
   ]
  },
  {
   "cell_type": "markdown",
   "metadata": {},
   "source": [
    "### Graphical representation of tier 2 printers"
   ]
  },
  {
   "cell_type": "markdown",
   "metadata": {},
   "source": [
    "<div class=\"alert alert-block alert-warning\">\n",
    "<h3>Problem 8</h3>\n",
    "\n",
    "Using the code above for tier 1 as a model, write code that produces a graphical representation of the optimal solution for tier 2 printers.  Key features of the graphical output should include the following:\n",
    "\n",
    "- A map of the continential U.S. with state borders, rivers, and lakes\n",
    "- Customer locations plotted with red circles\n",
    "- Printer locations plotted with <b>green squares</b> that increase in size as the number of printers at the location increase\n",
    "- A legend to indicate the meaning of the different color markers\n",
    "- Lines with different thickness levels between customers and printers to indicate the level of satisfaction provided \n",
    "\n",
    "Your code should create figures in Jupyter and the <b>Map2</b> worksheet in Excel.\n",
    "</div>"
   ]
  },
  {
   "cell_type": "code",
   "execution_count": null,
   "metadata": {},
   "outputs": [],
   "source": []
  },
  {
   "cell_type": "code",
   "execution_count": 13,
   "metadata": {
    "run_control": {
     "marked": true
    }
   },
   "outputs": [
    {
     "data": {
      "image/png": "[encoded data removed]",
      "text/plain": [
       "<Figure size 648x432 with 1 Axes>"
      ]
     },
     "metadata": {
      "needs_background": "light"
     },
     "output_type": "display_data"
    },
    {
     "data": {
      "text/plain": [
       "<Picture 'Tier 2 Location Map' in <Sheet [3DPrintingFacilityLocation.xlsx]Map2>>"
      ]
     },
     "execution_count": 13,
     "metadata": {},
     "output_type": "execute_result"
    }
   ],
   "source": [
    "# SOLUTION\n",
    "# Create a figure for tier 2 information that contains a Continental US map\n",
    "fig = plt.figure(figsize=(9, 6))\n",
    "ax = plt.axes(projection=cartopy.crs.PlateCarree())\n",
    "ax.stock_img()\n",
    "ax.add_feature(cartopy.feature.LAND)\n",
    "ax.add_feature(cartopy.feature.OCEAN)\n",
    "ax.add_feature(cartopy.feature.COASTLINE)\n",
    "ax.add_feature(cartopy.feature.BORDERS, linestyle='-')\n",
    "ax.add_feature(cartopy.feature.STATES, linestyle=':')\n",
    "ax.add_feature(cartopy.feature.LAKES, alpha=0.5)\n",
    "ax.add_feature(cartopy.feature.RIVERS)\n",
    "ax.set_extent([-130, -60, 25, 50])  # Continental US Only\n",
    "\n",
    "# Plot the customer locations with red circles\n",
    "ax.plot(longs, lats, 'ro', label='Customers')\n",
    "\n",
    "# Loop over entries in overall_coords related to tier 2\n",
    "for i in range(len(overall_coords[('tier2', 'longs')])):\n",
    "    # Plot the locations that have > 0 printers with green squares\n",
    "    # Note that the sizes of the squares increase as the number or printers\n",
    "    # at that location increase.\n",
    "    ax.plot(overall_coords[('tier2', 'longs')][i], overall_coords[('tier2', 'lats')][i],\n",
    "            'gs', ms=(overall_coords[('tier2','NumberOfPrinters')][i] * 0.8) + 2)\n",
    "\n",
    "# Plot locations that have > 0 printers with \"default size\" green squares again\n",
    "# so that a single \"default size\" green square will appear in the graph legend\n",
    "# for Tier 2 Printer Locations\n",
    "ax.plot(overall_coords[('tier2', 'longs')], overall_coords[('tier2','lats')],\n",
    "        'gs', ms=8, label='Tier 2 Printer Locations')\n",
    "\n",
    "# Now plot connections that exist between customers and printers based on the amount of satisfaction.\n",
    "longsconnect = []\n",
    "latsconnect = []\n",
    "for i in model.I:\n",
    "    for j in model.J:\n",
    "        # First check to see if the amount of satisfaction is \"significant\"\n",
    "        # Ideally we would say != 0 here, but then we get \"noise\" solutions based\n",
    "        # on numerical precision issues where the amount of satisfaction is\n",
    "        # essentially zero, but NOT actually zero.\n",
    "        if model.SAT2[i,j].value > 0.000001:\n",
    "\n",
    "            # Look up the longitudes for the connected locations and puts them in a list\n",
    "            longsconnect = [longs[customers.index(i)], longs[customers.index(j)]]\n",
    "\n",
    "            # Look up the latitudes for the connected locations and put them in a list\n",
    "            latsconnect = [lats[customers.index(i)], lats[customers.index(j)]]\n",
    "\n",
    "            # Check the amount of satisfaction provided from the printer\n",
    "            # location to the customer\n",
    "            # If the amount of satisfaction is >= 75% we connect those\n",
    "            # locations with a \"thick\" green solid line.\n",
    "            if model.SAT2[i,j].value >= 0.75:\n",
    "                ax.plot(longsconnect, latsconnect, 'g-', linewidth=2)\n",
    "\n",
    "            # If the amount of satisfaction is >= 50% we connect those\n",
    "            # locations with a \"less thick\" green solid line.\n",
    "            elif model.SAT2[i,j].value >= 0.5:\n",
    "                ax.plot(longsconnect, latsconnect, 'g-', linewidth=1)\n",
    "\n",
    "            # If the amount of satisfaction is >= 25% we connect those locations\n",
    "            # with an \"even less thick\" green solid line.\n",
    "            elif model.SAT2[i,j].value >= 0.25:\n",
    "                ax.plot(longsconnect, latsconnect, 'g-', linewidth=0.75)\n",
    "\n",
    "            # If the amount of satisfaction is < 25% we connect those locations\n",
    "            # with an \"even less thick\" green dashed line.\n",
    "            else:\n",
    "                ax.plot(longsconnect, latsconnect, 'g--', linewidth=0.75)\n",
    "\n",
    "            # Here we \"empty\" the two lists longsconnect and latsconntect to be\n",
    "            # ready for the next pairing of customer to printer\n",
    "            longsconnect = []\n",
    "            latsconnect = []\n",
    "\n",
    "# Add an overall title to the figure\n",
    "ax.set_title('Tier 2 Location Map')\n",
    "\n",
    "# Add a legend that appears in the upper center of the figure\n",
    "legend = ax.legend(loc='upper center', shadow=True, fontsize='x-large')\n",
    "\n",
    "# Plot the figure on the output terminal\n",
    "plt.show()\n",
    "\n",
    "# Name of worksheet where figure will go in the Excel file\n",
    "smap2 = wb.sheets['Map2']\n",
    "\n",
    "# Count how many pictures are currently on the Map2 worksheet\n",
    "num_pics = smap2.pictures.count\n",
    "\n",
    "# Loop over the number of pictures currently on the Map2 worksheet\n",
    "for i in range(num_pics):\n",
    "    # Name the pictures that are currently on the Map2 worksheet 1 at a time\n",
    "    pic_name = smap2.pictures[i].name\n",
    "\n",
    "    # Delete any exsisting images on the Map2 worksheet 1 at a time\n",
    "    smap2.pictures[pic_name].delete()\n",
    "\n",
    "# Write figure to Excel worksheet\n",
    "smap2.pictures.add(fig, name='Tier 2 Location Map', update=True)"
   ]
  }
 ],
 "metadata": {
  "kernelspec": {
   "display_name": "Python 3",
   "language": "python",
   "name": "python3"
  },
  "language_info": {
   "codemirror_mode": {
    "name": "ipython",
    "version": 3
   },
   "file_extension": ".py",
   "mimetype": "text/x-python",
   "name": "python",
   "nbconvert_exporter": "python",
   "pygments_lexer": "ipython3",
   "version": "3.7.6"
  }
 },
 "nbformat": 4,
 "nbformat_minor": 2
}
